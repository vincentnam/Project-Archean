{
 "cells": [
  {
   "cell_type": "code",
   "execution_count": 1,
   "metadata": {},
   "outputs": [],
   "source": [
    "import pandas as pd\n",
    "import numpy as np"
   ]
  },
  {
   "cell_type": "code",
   "execution_count": 2,
   "metadata": {},
   "outputs": [],
   "source": [
    "def get_media_type(annot, media='audio'):\n",
    "    les_medias = set(['audio','video','texte'])\n",
    "    les_medias.difference(set([media]))\n",
    "    \n",
    "    filtres = {}\n",
    "    filtres['isGraded'] = annot['isGraded'] == 1\n",
    "    filtres[media]      = annot[media] == 1\n",
    "    f = pd.DataFrame(filtres).apply(sum, axis=1) == len(filtres)\n",
    "    df_media = annot.loc[f,:].copy()\n",
    "    \n",
    "    for m in les_medias.difference(set([media])):\n",
    "        filtres[m] = annot[m] == 0\n",
    "    f = pd.DataFrame(filtres).apply(sum, axis=1) == len(filtres)\n",
    "    df_media_only = annot.loc[f,:].copy()\n",
    "    \n",
    "    if len(df_media) > 0:\n",
    "        df_media['moyenne']      = df_media[noteurs].apply(np.nanmean, axis=1)\n",
    "        print(media,\" : \",      len(set(df_media['doc'])), sep=\"\")\n",
    "    \n",
    "    if len(df_media_only) > 0:\n",
    "        df_media_only['moyenne'] = df_media_only[noteurs].apply(np.nanmean, axis=1)\n",
    "        print(media,\"_only : \", len(set(df_media_only['doc'])), sep=\"\")\n",
    "        \n",
    "        df_media_only[['doc','moyenne']].groupby(['doc']).agg(['count','mean']).head()\n",
    "    \n",
    "    return df_media, df_media_only"
   ]
  },
  {
   "cell_type": "markdown",
   "metadata": {},
   "source": [
    "#### Ouverture du csv des annotations, changement des colonnes"
   ]
  },
  {
   "cell_type": "code",
   "execution_count": 3,
   "metadata": {},
   "outputs": [
    {
     "data": {
      "text/html": [
       "<div>\n",
       "<style scoped>\n",
       "    .dataframe tbody tr th:only-of-type {\n",
       "        vertical-align: middle;\n",
       "    }\n",
       "\n",
       "    .dataframe tbody tr th {\n",
       "        vertical-align: top;\n",
       "    }\n",
       "\n",
       "    .dataframe thead th {\n",
       "        text-align: right;\n",
       "    }\n",
       "</style>\n",
       "<table border=\"1\" class=\"dataframe\">\n",
       "  <thead>\n",
       "    <tr style=\"text-align: right;\">\n",
       "      <th></th>\n",
       "      <th>il08_09</th>\n",
       "      <th>vg04_05</th>\n",
       "      <th>fd03_04</th>\n",
       "      <th>la09_10</th>\n",
       "      <th>cg13_14</th>\n",
       "      <th>mb00_12</th>\n",
       "      <th>doc</th>\n",
       "      <th>audio</th>\n",
       "      <th>video</th>\n",
       "      <th>texte</th>\n",
       "      <th>isGraded</th>\n",
       "    </tr>\n",
       "  </thead>\n",
       "  <tbody>\n",
       "    <tr>\n",
       "      <th>1</th>\n",
       "      <td>NaN</td>\n",
       "      <td>NaN</td>\n",
       "      <td>NaN</td>\n",
       "      <td>NaN</td>\n",
       "      <td>NaN</td>\n",
       "      <td>NaN</td>\n",
       "      <td>119_8</td>\n",
       "      <td>1</td>\n",
       "      <td>0</td>\n",
       "      <td>0</td>\n",
       "      <td>0</td>\n",
       "    </tr>\n",
       "    <tr>\n",
       "      <th>2</th>\n",
       "      <td>NaN</td>\n",
       "      <td>NaN</td>\n",
       "      <td>NaN</td>\n",
       "      <td>NaN</td>\n",
       "      <td>NaN</td>\n",
       "      <td>NaN</td>\n",
       "      <td>119_8</td>\n",
       "      <td>1</td>\n",
       "      <td>1</td>\n",
       "      <td>0</td>\n",
       "      <td>0</td>\n",
       "    </tr>\n",
       "    <tr>\n",
       "      <th>3</th>\n",
       "      <td>NaN</td>\n",
       "      <td>NaN</td>\n",
       "      <td>NaN</td>\n",
       "      <td>NaN</td>\n",
       "      <td>NaN</td>\n",
       "      <td>NaN</td>\n",
       "      <td>119_8</td>\n",
       "      <td>1</td>\n",
       "      <td>1</td>\n",
       "      <td>1</td>\n",
       "      <td>0</td>\n",
       "    </tr>\n",
       "    <tr>\n",
       "      <th>4</th>\n",
       "      <td>NaN</td>\n",
       "      <td>NaN</td>\n",
       "      <td>NaN</td>\n",
       "      <td>NaN</td>\n",
       "      <td>NaN</td>\n",
       "      <td>NaN</td>\n",
       "      <td>119_8</td>\n",
       "      <td>1</td>\n",
       "      <td>0</td>\n",
       "      <td>1</td>\n",
       "      <td>0</td>\n",
       "    </tr>\n",
       "    <tr>\n",
       "      <th>5</th>\n",
       "      <td>NaN</td>\n",
       "      <td>NaN</td>\n",
       "      <td>NaN</td>\n",
       "      <td>NaN</td>\n",
       "      <td>NaN</td>\n",
       "      <td>NaN</td>\n",
       "      <td>119_8</td>\n",
       "      <td>0</td>\n",
       "      <td>0</td>\n",
       "      <td>1</td>\n",
       "      <td>0</td>\n",
       "    </tr>\n",
       "    <tr>\n",
       "      <th>6</th>\n",
       "      <td>NaN</td>\n",
       "      <td>NaN</td>\n",
       "      <td>NaN</td>\n",
       "      <td>NaN</td>\n",
       "      <td>NaN</td>\n",
       "      <td>76.0</td>\n",
       "      <td>57_6</td>\n",
       "      <td>1</td>\n",
       "      <td>0</td>\n",
       "      <td>0</td>\n",
       "      <td>1</td>\n",
       "    </tr>\n",
       "  </tbody>\n",
       "</table>\n",
       "</div>"
      ],
      "text/plain": [
       "   il08_09  vg04_05  fd03_04  la09_10  cg13_14  mb00_12    doc  audio  video  \\\n",
       "1      NaN      NaN      NaN      NaN      NaN      NaN  119_8      1      0   \n",
       "2      NaN      NaN      NaN      NaN      NaN      NaN  119_8      1      1   \n",
       "3      NaN      NaN      NaN      NaN      NaN      NaN  119_8      1      1   \n",
       "4      NaN      NaN      NaN      NaN      NaN      NaN  119_8      1      0   \n",
       "5      NaN      NaN      NaN      NaN      NaN      NaN  119_8      0      0   \n",
       "6      NaN      NaN      NaN      NaN      NaN     76.0   57_6      1      0   \n",
       "\n",
       "   texte  isGraded  \n",
       "1      0         0  \n",
       "2      0         0  \n",
       "3      1         0  \n",
       "4      1         0  \n",
       "5      1         0  \n",
       "6      0         1  "
      ]
     },
     "execution_count": 3,
     "metadata": {},
     "output_type": "execute_result"
    }
   ],
   "source": [
    "samplerate = 16000\n",
    "\n",
    "directory = './challenge-m2-sid/'\n",
    "dir_audio = directory + 'corpus/audio/'\n",
    "dir_texte = directory + 'corpus/text/'\n",
    "dir_video = directory + 'corpus/video/'\n",
    "\n",
    "audio_extension = \"_mono.wav\"\n",
    "texte_extension = \".xml\"\n",
    "video_extension = \".m4v\"\n",
    "\n",
    "annot = pd.read_csv(directory+'annotations_challenge_sid.csv', sep=\"\\t\", index_col=0, header=0).replace(-1,np.nan)\n",
    "noteurs = annot.columns[1:]\n",
    "\n",
    "annot['doc']      = [\"_\".join(e.split(\"_\")[0:2]) for e in annot[\"code_doc\"]]\n",
    "annot['audio']    = [int(e.split(\"_\")[2][0])     for e in annot[\"code_doc\"]]\n",
    "annot['video']    = [int(e.split(\"_\")[2][1])     for e in annot[\"code_doc\"]]\n",
    "annot['texte']    = [int(e.split(\"_\")[2][2])     for e in annot[\"code_doc\"]]\n",
    "annot['isGraded'] = [int(e.split(\"_\")[3])        for e in annot[\"code_doc\"]]\n",
    "\n",
    "annot = annot.drop(\"code_doc\", axis=1)\n",
    "annot.head(6)"
   ]
  },
  {
   "cell_type": "markdown",
   "metadata": {},
   "source": [
    "#### Selection des audio notés et calcul de la moyenne"
   ]
  },
  {
   "cell_type": "code",
   "execution_count": 4,
   "metadata": {},
   "outputs": [
    {
     "name": "stdout",
     "output_type": "stream",
     "text": [
      "audio : 55\n",
      "audio_only : 33\n"
     ]
    }
   ],
   "source": [
    "audio, audio_only = get_media_type(annot, media='audio')"
   ]
  },
  {
   "cell_type": "code",
   "execution_count": 5,
   "metadata": {},
   "outputs": [
    {
     "name": "stdout",
     "output_type": "stream",
     "text": [
      "video : 44\n"
     ]
    }
   ],
   "source": [
    "video, video_only = get_media_type(annot, media='video')"
   ]
  },
  {
   "cell_type": "code",
   "execution_count": 6,
   "metadata": {},
   "outputs": [
    {
     "name": "stdout",
     "output_type": "stream",
     "text": [
      "texte : 55\n",
      "texte_only : 33\n"
     ]
    }
   ],
   "source": [
    "texte, texte_only = get_media_type(annot, media='texte')"
   ]
  },
  {
   "cell_type": "code",
   "execution_count": null,
   "metadata": {},
   "outputs": [],
   "source": []
  },
  {
   "cell_type": "markdown",
   "metadata": {},
   "source": [
    "texte_only = annot[(annot['isGraded'] == 1) &\n",
    "                   (annot['audio']    == 0) &\n",
    "                   (annot['video']    == 0) &\n",
    "                   (annot['texte']    == 1)\n",
    "                  ].copy()\n",
    "\n",
    "texte = annot[(annot['isGraded'] == 1) & \n",
    "              (annot['texte']    == 1)\n",
    "             ].copy()\n",
    "\n",
    "texte['moyenne']      = texte[noteurs].apply(np.nanmean, axis=1)\n",
    "texte_only['moyenne'] = texte_only[noteurs].apply(np.nanmean, axis=1)\n",
    "\n",
    "print(\"texte :\",      len(set(texte['doc'])))\n",
    "print(\"texte_only :\", len(set(texte_only['doc'])))\n",
    "\n",
    "texte_only[['doc','moyenne']].groupby(['doc']).agg(['count','mean']).head(7)"
   ]
  }
 ],
 "metadata": {
  "kernelspec": {
   "display_name": "Python 3",
   "language": "python",
   "name": "python3"
  },
  "language_info": {
   "codemirror_mode": {
    "name": "ipython",
    "version": 3
   },
   "file_extension": ".py",
   "mimetype": "text/x-python",
   "name": "python",
   "nbconvert_exporter": "python",
   "pygments_lexer": "ipython3",
   "version": "3.6.8"
  }
 },
 "nbformat": 4,
 "nbformat_minor": 2
}
