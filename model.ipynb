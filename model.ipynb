{
 "cells": [
  {
   "cell_type": "code",
   "execution_count": 1,
   "metadata": {},
   "outputs": [],
   "source": [
    "import pandas as pd\n",
    "import numpy as np"
   ]
  },
  {
   "cell_type": "code",
   "execution_count": 1,
   "metadata": {},
   "outputs": [
    {
     "name": "stdout",
     "output_type": "stream",
     "text": [
      "audio : 55\n",
      "audio_only : 33\n"
     ]
    }
   ],
   "source": [
    "%run loading_data.ipynb"
   ]
  },
  {
   "cell_type": "code",
   "execution_count": 4,
   "metadata": {},
   "outputs": [
    {
     "data": {
      "text/html": [
       "<div>\n",
       "<style scoped>\n",
       "    .dataframe tbody tr th:only-of-type {\n",
       "        vertical-align: middle;\n",
       "    }\n",
       "\n",
       "    .dataframe tbody tr th {\n",
       "        vertical-align: top;\n",
       "    }\n",
       "\n",
       "    .dataframe thead th {\n",
       "        text-align: right;\n",
       "    }\n",
       "</style>\n",
       "<table border=\"1\" class=\"dataframe\">\n",
       "  <thead>\n",
       "    <tr style=\"text-align: right;\">\n",
       "      <th></th>\n",
       "      <th>SCENE</th>\n",
       "      <th>SR</th>\n",
       "      <th>SNR</th>\n",
       "      <th>CONF</th>\n",
       "      <th>RECON</th>\n",
       "      <th>SCORE</th>\n",
       "      <th>XML</th>\n",
       "    </tr>\n",
       "  </thead>\n",
       "  <tbody>\n",
       "    <tr>\n",
       "      <th>0</th>\n",
       "      <td>100_1</td>\n",
       "      <td>0.634000</td>\n",
       "      <td>0.952384</td>\n",
       "      <td>0.889849</td>\n",
       "      <td>Bonsoir intérêt pour coiffeur c'est pas sérieu...</td>\n",
       "      <td>0.573276</td>\n",
       "      <td>Bonsoir Tu veux pas te garer Pour quoi faire M...</td>\n",
       "    </tr>\n",
       "    <tr>\n",
       "      <th>1</th>\n",
       "      <td>107_7</td>\n",
       "      <td>0.944506</td>\n",
       "      <td>0.998807</td>\n",
       "      <td>0.882336</td>\n",
       "      <td>pourquoi trouver la je vous en prie je vous in...</td>\n",
       "      <td>0.943565</td>\n",
       "      <td>Qu est ce qui se passe Vous en faites un bouca...</td>\n",
       "    </tr>\n",
       "    <tr>\n",
       "      <th>2</th>\n",
       "      <td>108_3</td>\n",
       "      <td>0.683847</td>\n",
       "      <td>0.934093</td>\n",
       "      <td>0.886411</td>\n",
       "      <td>pourrais-tu vous êtes totalement à côté de la ...</td>\n",
       "      <td>0.465793</td>\n",
       "      <td>Quoi Une chorale Oui Mon pauvre Mathieu vous ê...</td>\n",
       "    </tr>\n",
       "    <tr>\n",
       "      <th>3</th>\n",
       "      <td>128_5</td>\n",
       "      <td>0.689977</td>\n",
       "      <td>0.991269</td>\n",
       "      <td>0.876096</td>\n",
       "      <td>marquer comme les mises en clair normal en ham...</td>\n",
       "      <td>0.596859</td>\n",
       "      <td>T as remarqué comme les nuits sont claires Nor...</td>\n",
       "    </tr>\n",
       "    <tr>\n",
       "      <th>4</th>\n",
       "      <td>13_2</td>\n",
       "      <td>0.855560</td>\n",
       "      <td>0.702674</td>\n",
       "      <td>0.912446</td>\n",
       "      <td>dites-moi Monsieur pires la Lombardie vous ave...</td>\n",
       "      <td>0.674074</td>\n",
       "      <td>Dites moi monsieur Pire Tina Lombardi vous avi...</td>\n",
       "    </tr>\n",
       "  </tbody>\n",
       "</table>\n",
       "</div>"
      ],
      "text/plain": [
       "   SCENE        SR       SNR      CONF  \\\n",
       "0  100_1  0.634000  0.952384  0.889849   \n",
       "1  107_7  0.944506  0.998807  0.882336   \n",
       "2  108_3  0.683847  0.934093  0.886411   \n",
       "3  128_5  0.689977  0.991269  0.876096   \n",
       "4   13_2  0.855560  0.702674  0.912446   \n",
       "\n",
       "                                               RECON     SCORE  \\\n",
       "0  Bonsoir intérêt pour coiffeur c'est pas sérieu...  0.573276   \n",
       "1  pourquoi trouver la je vous en prie je vous in...  0.943565   \n",
       "2  pourrais-tu vous êtes totalement à côté de la ...  0.465793   \n",
       "3  marquer comme les mises en clair normal en ham...  0.596859   \n",
       "4  dites-moi Monsieur pires la Lombardie vous ave...  0.674074   \n",
       "\n",
       "                                                 XML  \n",
       "0  Bonsoir Tu veux pas te garer Pour quoi faire M...  \n",
       "1  Qu est ce qui se passe Vous en faites un bouca...  \n",
       "2  Quoi Une chorale Oui Mon pauvre Mathieu vous ê...  \n",
       "3  T as remarqué comme les nuits sont claires Nor...  \n",
       "4  Dites moi monsieur Pire Tina Lombardi vous avi...  "
      ]
     },
     "execution_count": 4,
     "metadata": {},
     "output_type": "execute_result"
    }
   ],
   "source": [
    "audio_features = pd.read_csv('./data/audio_features.csv', sep='§', engine='python', index_col=0, encoding='utf-8')\n",
    "audio_features.head()"
   ]
  },
  {
   "cell_type": "code",
   "execution_count": 5,
   "metadata": {},
   "outputs": [],
   "source": [
    "selected_columns = ['SCENE','SR','SNR','CONF','SCORE']"
   ]
  },
  {
   "cell_type": "code",
   "execution_count": 8,
   "metadata": {},
   "outputs": [
    {
     "data": {
      "text/html": [
       "<div>\n",
       "<style scoped>\n",
       "    .dataframe tbody tr th:only-of-type {\n",
       "        vertical-align: middle;\n",
       "    }\n",
       "\n",
       "    .dataframe tbody tr th {\n",
       "        vertical-align: top;\n",
       "    }\n",
       "\n",
       "    .dataframe thead th {\n",
       "        text-align: right;\n",
       "    }\n",
       "</style>\n",
       "<table border=\"1\" class=\"dataframe\">\n",
       "  <thead>\n",
       "    <tr style=\"text-align: right;\">\n",
       "      <th></th>\n",
       "      <th>SCENE</th>\n",
       "      <th>SR</th>\n",
       "      <th>SNR</th>\n",
       "      <th>CONF</th>\n",
       "      <th>SCORE</th>\n",
       "      <th>count</th>\n",
       "      <th>mean</th>\n",
       "    </tr>\n",
       "  </thead>\n",
       "  <tbody>\n",
       "    <tr>\n",
       "      <th>0</th>\n",
       "      <td>100_1</td>\n",
       "      <td>0.634000</td>\n",
       "      <td>0.952384</td>\n",
       "      <td>0.889849</td>\n",
       "      <td>0.573276</td>\n",
       "      <td>2</td>\n",
       "      <td>57.583333</td>\n",
       "    </tr>\n",
       "    <tr>\n",
       "      <th>1</th>\n",
       "      <td>107_7</td>\n",
       "      <td>0.944506</td>\n",
       "      <td>0.998807</td>\n",
       "      <td>0.882336</td>\n",
       "      <td>0.943565</td>\n",
       "      <td>2</td>\n",
       "      <td>60.500000</td>\n",
       "    </tr>\n",
       "    <tr>\n",
       "      <th>2</th>\n",
       "      <td>108_3</td>\n",
       "      <td>0.683847</td>\n",
       "      <td>0.934093</td>\n",
       "      <td>0.886411</td>\n",
       "      <td>0.465793</td>\n",
       "      <td>2</td>\n",
       "      <td>49.833333</td>\n",
       "    </tr>\n",
       "    <tr>\n",
       "      <th>3</th>\n",
       "      <td>116_15</td>\n",
       "      <td>0.869995</td>\n",
       "      <td>0.998339</td>\n",
       "      <td>0.903309</td>\n",
       "      <td>0.364629</td>\n",
       "      <td>2</td>\n",
       "      <td>34.250000</td>\n",
       "    </tr>\n",
       "    <tr>\n",
       "      <th>4</th>\n",
       "      <td>128_5</td>\n",
       "      <td>0.689977</td>\n",
       "      <td>0.991269</td>\n",
       "      <td>0.876096</td>\n",
       "      <td>0.596859</td>\n",
       "      <td>2</td>\n",
       "      <td>82.250000</td>\n",
       "    </tr>\n",
       "  </tbody>\n",
       "</table>\n",
       "</div>"
      ],
      "text/plain": [
       "    SCENE        SR       SNR      CONF     SCORE  count       mean\n",
       "0   100_1  0.634000  0.952384  0.889849  0.573276      2  57.583333\n",
       "1   107_7  0.944506  0.998807  0.882336  0.943565      2  60.500000\n",
       "2   108_3  0.683847  0.934093  0.886411  0.465793      2  49.833333\n",
       "3  116_15  0.869995  0.998339  0.903309  0.364629      2  34.250000\n",
       "4   128_5  0.689977  0.991269  0.876096  0.596859      2  82.250000"
      ]
     },
     "execution_count": 8,
     "metadata": {},
     "output_type": "execute_result"
    }
   ],
   "source": [
    "TEMP = audio[['doc','moyenne']].groupby(['doc']).agg(['count','mean']).droplevel(0,axis=1)\n",
    "RES = pd.merge(audio_features[selected_columns],TEMP, left_on='SCENE', right_on='doc').sort_values(by=['SCENE'])\n",
    "RES = RES.reset_index(drop=True)\n",
    "RES.head()"
   ]
  },
  {
   "cell_type": "code",
   "execution_count": null,
   "metadata": {},
   "outputs": [],
   "source": []
  },
  {
   "cell_type": "code",
   "execution_count": null,
   "metadata": {},
   "outputs": [],
   "source": []
  }
 ],
 "metadata": {
  "kernelspec": {
   "display_name": "Python 3",
   "language": "python",
   "name": "python3"
  },
  "language_info": {
   "codemirror_mode": {
    "name": "ipython",
    "version": 3
   },
   "file_extension": ".py",
   "mimetype": "text/x-python",
   "name": "python",
   "nbconvert_exporter": "python",
   "pygments_lexer": "ipython3",
   "version": "3.6.8"
  }
 },
 "nbformat": 4,
 "nbformat_minor": 2
}
