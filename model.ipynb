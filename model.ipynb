{
 "cells": [
  {
   "cell_type": "code",
   "execution_count": 3,
   "metadata": {},
   "outputs": [
    {
     "name": "stdout",
     "output_type": "stream",
     "text": [
      "audio : 55\n",
      "audio_only : 33\n",
      "video : 44\n",
      "texte : 55\n",
      "texte_only : 33\n"
     ]
    }
   ],
   "source": [
    "%run loading_data.ipynb"
   ]
  },
  {
   "cell_type": "markdown",
   "metadata": {},
   "source": [
    "#### chargement des données et des features"
   ]
  },
  {
   "cell_type": "code",
   "execution_count": 4,
   "metadata": {},
   "outputs": [
    {
     "name": "stdout",
     "output_type": "stream",
     "text": [
      "audio : 55\n",
      "audio_only : 54\n"
     ]
    }
   ],
   "source": [
    "label_normalised_origin = pd.read_csv('./data/label_normalised.csv', sep=\",\", index_col=0, header=0)\n",
    "label_normalised_origin = label_normalised_origin.drop('\\t',axis=1)\n",
    "label_normalised, noteurs_normalised  = transform_annotation(label_normalised_origin)\n",
    "\n",
    "graded = label_normalised[(label_normalised['isRated'] == 1)].copy()\n",
    "\n",
    "g_audio, g_audio_only = get_media_type(graded, noteurs_normalised, media='audio')"
   ]
  },
  {
   "cell_type": "code",
   "execution_count": 5,
   "metadata": {},
   "outputs": [],
   "source": [
    "selected_features = ['SR','SNR','CONF','VBR','SCORE']\n",
    "selected_columns = ['SCENE'] + selected_features\n",
    "selected_y = 'mean'\n",
    "\n",
    "audio_features = pd.read_csv('./data/silence_rolling_mean_new.csv', sep='§', engine='python', index_col=0, encoding='utf-8')\n",
    "\n",
    "DF = pd.merge(audio_features[selected_columns], g_audio_only.drop('count',axis=1), \n",
    "              left_on='SCENE', right_on='doc').sort_values(by=['SCENE'])\n",
    "DF.reset_index(drop=1, inplace=True)\n",
    "DF.set_index('doc',inplace=True)\n",
    "\n",
    "for c in selected_features:\n",
    "    DF.loc[np.isnan(DF.loc[:,c]),c] = np.nanmean(DF.loc[:,c])"
   ]
  },
  {
   "cell_type": "markdown",
   "metadata": {},
   "source": [
    "## Régression linéaire, leave on out"
   ]
  },
  {
   "cell_type": "code",
   "execution_count": 6,
   "metadata": {},
   "outputs": [
    {
     "data": {
      "text/plain": [
       "1.0566757563960487"
      ]
     },
     "execution_count": 6,
     "metadata": {},
     "output_type": "execute_result"
    }
   ],
   "source": [
    "from sklearn.model_selection import LeaveOneOut\n",
    "from sklearn.linear_model import LinearRegression\n",
    "from sklearn import preprocessing\n",
    "\n",
    "scaler = preprocessing.StandardScaler(with_mean=True, with_std=True, copy=True)\n",
    "scaler.fit(DF[selected_features])\n",
    "DF_scaled = pd.DataFrame(scaler.transform(DF[selected_features]), \n",
    "                         index = DF.index, columns = selected_features)\n",
    "DF_scaled[selected_y] = DF[selected_y]\n",
    "\n",
    "X = DF_scaled[selected_features].values\n",
    "y = DF_scaled[selected_y].values\n",
    "preds_test = np.zeros(len(X))\n",
    "\n",
    "loo = LeaveOneOut()\n",
    "loo.get_n_splits(X)\n",
    "\n",
    "coefficients = np.zeros([len(X),len(selected_features)+1])\n",
    "for i,(train_index, test_index) in enumerate(loo.split(X)):\n",
    "    X_train, X_test = X[train_index], X[test_index]\n",
    "    y_train, y_test = y[train_index], y[test_index]\n",
    "    reg = LinearRegression().fit(X_train, y_train)\n",
    "    preds_test[i] = reg.predict(X_test)\n",
    "    coefficients[i,:] = [reg.intercept_] + reg.coef_.tolist()\n",
    "\n",
    "erreurs = y - preds_test\n",
    "rmse_test = np.sqrt(np.mean(erreurs**2))\n",
    "rmse_test"
   ]
  },
  {
   "cell_type": "markdown",
   "metadata": {},
   "source": [
    "#### sélection de la moyennes des coefficients"
   ]
  },
  {
   "cell_type": "code",
   "execution_count": 7,
   "metadata": {},
   "outputs": [
    {
     "name": "stdout",
     "output_type": "stream",
     "text": [
      "[ 0.28163746  0.05150939  0.0805899  -0.01813273 -0.18506554  0.3336484 ]\n",
      "0.75560196653141\n"
     ]
    }
   ],
   "source": [
    "THETA = coefficients.mean(axis=0)\n",
    "XX = np.concatenate([np.ones([1,len(X)]), X.T]).T\n",
    "lasso_preds = np.dot(XX, THETA)\n",
    "erreurs = y - lasso_preds\n",
    "rmse_test = np.sqrt(np.mean(erreurs**2))\n",
    "\n",
    "print(THETA)\n",
    "print(rmse_test)"
   ]
  },
  {
   "cell_type": "markdown",
   "metadata": {},
   "source": [
    "## Régression lasso, leave one out"
   ]
  },
  {
   "cell_type": "code",
   "execution_count": 18,
   "metadata": {},
   "outputs": [
    {
     "data": {
      "text/plain": [
       "0.8976313209497669"
      ]
     },
     "execution_count": 18,
     "metadata": {},
     "output_type": "execute_result"
    }
   ],
   "source": [
    "from sklearn import linear_model\n",
    "alpha = 0.07\n",
    "\n",
    "coefficients = np.zeros([len(X),len(selected_features)+1])\n",
    "for i,(train_index, test_index) in enumerate(loo.split(X)):\n",
    "    X_train, X_test = X[train_index], X[test_index]\n",
    "    y_train, y_test = y[train_index], y[test_index]\n",
    "    lasso = linear_model.Lasso(alpha=alpha).fit(X_train, y_train)\n",
    "    preds_test[i] = lasso.predict(X_test)\n",
    "    coefficients[i,:] = [lasso.intercept_] + lasso.coef_.tolist()\n",
    "\n",
    "erreurs = y - preds_test\n",
    "rmse_test = np.sqrt(np.mean(erreurs**2))\n",
    "rmse_test"
   ]
  },
  {
   "cell_type": "markdown",
   "metadata": {},
   "source": [
    "#### sélection des coéfficients médians"
   ]
  },
  {
   "cell_type": "code",
   "execution_count": 19,
   "metadata": {},
   "outputs": [
    {
     "name": "stdout",
     "output_type": "stream",
     "text": [
      "[ 0.28105392  0.          0.          0.         -0.10973743  0.27503983]\n",
      "0.7670759365192996\n"
     ]
    }
   ],
   "source": [
    "THETA = np.median(coefficients,axis=0)\n",
    "XX = np.concatenate([np.ones([1,len(DF)]), X.T]).T\n",
    "lasso_preds = np.dot(XX, THETA)\n",
    "erreurs = y - lasso_preds\n",
    "rmse_test = np.sqrt(np.mean(erreurs**2))\n",
    "\n",
    "print(THETA)\n",
    "print(rmse_test)"
   ]
  },
  {
   "cell_type": "code",
   "execution_count": 20,
   "metadata": {},
   "outputs": [
    {
     "data": {
      "image/png": "[encoded data removed]",
      "text/plain": [
       "<Figure size 432x288 with 1 Axes>"
      ]
     },
     "metadata": {
      "needs_background": "light"
     },
     "output_type": "display_data"
    }
   ],
   "source": [
    "import matplotlib.pyplot as plt\n",
    "plt.figure(figsize=(6,4))\n",
    "plt.scatter(y, lasso_preds)\n",
    "plt.xlabel(\"score\")\n",
    "plt.ylabel(\"prédiction\")\n",
    "plt.xlim([-2,2])\n",
    "plt.ylim([-2,2])\n",
    "plt.show()"
   ]
  },
  {
   "cell_type": "code",
   "execution_count": 11,
   "metadata": {},
   "outputs": [
    {
     "name": "stdout",
     "output_type": "stream",
     "text": [
      "alpha : 0.01 \t\t rmse : 0.7558756265272001\n",
      "[ 0.28169419  0.03926466  0.07082358 -0.01007648 -0.17177557  0.3275514 ]\n",
      "\n",
      "alpha : 0.02 \t\t rmse : 0.7567772616021256\n",
      "[ 0.28144175  0.02756132  0.05745071 -0.00829923 -0.16039077  0.32000418]\n",
      "\n",
      "alpha : 0.03 \t\t rmse : 0.758262935242989\n",
      "[ 0.28167456  0.01606214  0.04408005 -0.00657372 -0.14909876  0.31245697]\n",
      "\n",
      "alpha : 0.04 \t\t rmse : 0.7603410152837103\n",
      "[ 0.28178266  0.00462904  0.03079489 -0.00454789 -0.13780675  0.30490976]\n",
      "\n",
      "alpha : 0.05 \t\t rmse : 0.7626078566238548\n",
      "[ 0.28148462  0.          0.01799293 -0.00233112 -0.12789063  0.29536126]\n",
      "\n",
      "alpha : 0.06 \t\t rmse : 0.7650546648997865\n",
      "[ 0.28123131  0.          0.00550203  0.         -0.11907114  0.28460189]\n",
      "\n",
      "alpha : 0.07 \t\t rmse : 0.7670759365192996\n",
      "[ 0.28105392  0.          0.          0.         -0.10973743  0.27503983]\n",
      "\n",
      "alpha : 0.08 \t\t rmse : 0.7688547720864998\n",
      "[ 0.28093799  0.          0.          0.         -0.10059879  0.26570726]\n",
      "\n",
      "alpha : 0.09 \t\t rmse : 0.7708575360030869\n",
      "[ 0.28082207  0.          0.          0.         -0.09149943  0.2563747 ]\n",
      "\n",
      "alpha : 0.1 \t\t rmse : 0.7731099552222894\n",
      "[ 0.28070614  0.          0.          0.         -0.08216184  0.24709348]\n",
      "\n",
      "alpha : 0.11 \t\t rmse : 0.7756049123283862\n",
      "[ 0.28059022  0.          0.          0.         -0.07282425  0.23770957]\n",
      "\n",
      "alpha : 0.12 \t\t rmse : 0.7783327542254299\n",
      "[ 0.28047429  0.          0.          0.         -0.06348665  0.22829727]\n",
      "\n",
      "alpha : 0.13 \t\t rmse : 0.7813095367560801\n",
      "[ 0.28051161  0.          0.          0.         -0.05414905  0.21875008]\n",
      "\n",
      "alpha : 0.14 \t\t rmse : 0.7845044471741808\n",
      "[ 0.28056947  0.          0.          0.         -0.0447046   0.20936416]\n",
      "\n",
      "alpha : 0.15 \t\t rmse : 0.7879595892151994\n",
      "[ 0.28019818  0.          0.          0.         -0.03524477  0.19979656]\n",
      "\n",
      "alpha : 0.16 \t\t rmse : 0.7916509779487717\n",
      "[ 0.27990453  0.          0.          0.         -0.02552292  0.19043745]\n",
      "\n",
      "alpha : 0.17 \t\t rmse : 0.7955144501896098\n",
      "[ 0.27968786  0.          0.          0.         -0.01616575  0.18095544]\n",
      "\n",
      "alpha : 0.18 \t\t rmse : 0.7995272070786111\n",
      "[ 0.27947118  0.          0.          0.         -0.00680858  0.17176839]\n",
      "\n",
      "alpha : 0.19 \t\t rmse : 0.8032268396776332\n",
      "[0.27950965 0.         0.         0.         0.         0.16226278]\n",
      "\n"
     ]
    }
   ],
   "source": [
    "from sklearn import linear_model\n",
    "for alpha in np.array(range(1,20))/100:\n",
    "    \n",
    "    coefficients = np.zeros([len(X),len(selected_features)+1])\n",
    "    for i,(train_index, test_index) in enumerate(loo.split(X)):\n",
    "        X_train, X_test = X[train_index], X[test_index]\n",
    "        y_train, y_test = y[train_index], y[test_index]\n",
    "        lasso = linear_model.Lasso(alpha=alpha).fit(X_train, y_train)\n",
    "        preds_test[i] = lasso.predict(X_test)\n",
    "        coefficients[i,:] = [lasso.intercept_] + lasso.coef_.tolist()\n",
    "    \n",
    "    erreurs = y - preds_test\n",
    "    rmse_test = np.sqrt(np.mean(erreurs**2))\n",
    "    \n",
    "    THETA = np.median(coefficients,axis=0)\n",
    "    XX = np.concatenate([np.ones([1,len(DF)]), X.T]).T\n",
    "    lasso_preds = np.dot(XX, THETA)\n",
    "    erreurs = y - lasso_preds\n",
    "    rmse_test = np.sqrt(np.mean(erreurs**2))\n",
    "    \n",
    "    print(\"alpha :\",alpha,'\\t\\t rmse :',rmse_test)\n",
    "    print(THETA)\n",
    "    print()"
   ]
  },
  {
   "cell_type": "code",
   "execution_count": 26,
   "metadata": {},
   "outputs": [
    {
     "name": "stdout",
     "output_type": "stream",
     "text": [
      "note moyenne dans l'audio only : 0.2802260033716651\n",
      "note moyenne dans l'audio : 0.025253785432488626\n"
     ]
    },
    {
     "data": {
      "text/plain": [
       "il08_09   -4.844610e-17\n",
       "vg04_05   -8.679925e-17\n",
       "fd03_04    1.069851e-16\n",
       "la09_10    1.402918e-16\n",
       "cg13_14    3.229740e-17\n",
       "ja05_06   -2.330421e-17\n",
       "fj11_12    3.179275e-17\n",
       "ec20_11   -4.037175e-18\n",
       "mb00_12   -8.881784e-17\n",
       "dtype: float64"
      ]
     },
     "execution_count": 26,
     "metadata": {},
     "output_type": "execute_result"
    }
   ],
   "source": [
    "print(\"note moyenne dans l'audio only :\",g_audio_only['mean'].mean())\n",
    "print(\"note moyenne dans l'audio :\",g_audio['mean'].mean())\n",
    "\n",
    "np.mean(label_normalised.iloc[:,0:9])"
   ]
  },
  {
   "cell_type": "code",
   "execution_count": null,
   "metadata": {},
   "outputs": [],
   "source": []
  },
  {
   "cell_type": "code",
   "execution_count": null,
   "metadata": {},
   "outputs": [],
   "source": []
  }
 ],
 "metadata": {
  "kernelspec": {
   "display_name": "Python 3",
   "language": "python",
   "name": "python3"
  },
  "language_info": {
   "codemirror_mode": {
    "name": "ipython",
    "version": 3
   },
   "file_extension": ".py",
   "mimetype": "text/x-python",
   "name": "python",
   "nbconvert_exporter": "python",
   "pygments_lexer": "ipython3",
   "version": "3.6.8"
  }
 },
 "nbformat": 4,
 "nbformat_minor": 2
}
