{
 "cells": [
  {
   "cell_type": "code",
   "execution_count": 1,
   "metadata": {},
   "outputs": [
    {
     "name": "stdout",
     "output_type": "stream",
     "text": [
      "audio : 55\n",
      "audio_only : 33\n",
      "video : 44\n",
      "texte : 55\n",
      "texte_only : 33\n"
     ]
    }
   ],
   "source": [
    "%run loading_data.ipynb"
   ]
  },
  {
   "cell_type": "markdown",
   "metadata": {},
   "source": [
    "#### chargement des données et des features"
   ]
  },
  {
   "cell_type": "code",
   "execution_count": 2,
   "metadata": {},
   "outputs": [
    {
     "name": "stdout",
     "output_type": "stream",
     "text": [
      "audio : 55\n",
      "audio_only : 54\n"
     ]
    }
   ],
   "source": [
    "label_normalised_origin = pd.read_csv('./data/label_normalised.csv', sep=\",\", index_col=0, header=0)\n",
    "label_normalised_origin = label_normalised_origin.drop('\\t',axis=1)\n",
    "label_normalised, noteurs_normalised  = transform_annotation(label_normalised_origin)\n",
    "\n",
    "graded = label_normalised[(label_normalised['isGraded'] == 1)].copy()\n",
    "\n",
    "g_audio, g_audio_only = get_media_type(graded, noteurs_normalised, media='audio')"
   ]
  },
  {
   "cell_type": "code",
   "execution_count": 3,
   "metadata": {},
   "outputs": [],
   "source": [
    "selected_features = ['SR','SNR','CONF','VBR','SCORE']\n",
    "selected_columns = ['SCENE'] + selected_features\n",
    "selected_y = 'mean'\n",
    "\n",
    "audio_features = pd.read_csv('./data/silence_rolling_mean.csv', sep='§', engine='python', index_col=0, encoding='utf-8')\n",
    "\n",
    "DF = pd.merge(audio_features[selected_columns], g_audio_only.drop('count',axis=1), \n",
    "              left_on='SCENE', right_on='doc').sort_values(by=['SCENE'])\n",
    "DF.reset_index(drop=1, inplace=True)\n",
    "DF.set_index('doc',inplace=True)\n",
    "\n",
    "for c in selected_features:\n",
    "    DF.loc[np.isnan(DF.loc[:,c]),c] = np.nanmean(DF.loc[:,c])"
   ]
  },
  {
   "cell_type": "code",
   "execution_count": 4,
   "metadata": {},
   "outputs": [
    {
     "data": {
      "text/html": [
       "<div>\n",
       "<style scoped>\n",
       "    .dataframe tbody tr th:only-of-type {\n",
       "        vertical-align: middle;\n",
       "    }\n",
       "\n",
       "    .dataframe tbody tr th {\n",
       "        vertical-align: top;\n",
       "    }\n",
       "\n",
       "    .dataframe thead th {\n",
       "        text-align: right;\n",
       "    }\n",
       "</style>\n",
       "<table border=\"1\" class=\"dataframe\">\n",
       "  <thead>\n",
       "    <tr style=\"text-align: right;\">\n",
       "      <th></th>\n",
       "      <th>SCENE</th>\n",
       "      <th>SR</th>\n",
       "      <th>SNR</th>\n",
       "      <th>CONF</th>\n",
       "      <th>VBR</th>\n",
       "      <th>SCORE</th>\n",
       "      <th>mean</th>\n",
       "    </tr>\n",
       "    <tr>\n",
       "      <th>doc</th>\n",
       "      <th></th>\n",
       "      <th></th>\n",
       "      <th></th>\n",
       "      <th></th>\n",
       "      <th></th>\n",
       "      <th></th>\n",
       "      <th></th>\n",
       "    </tr>\n",
       "  </thead>\n",
       "  <tbody>\n",
       "    <tr>\n",
       "      <td>100_1</td>\n",
       "      <td>100_1</td>\n",
       "      <td>0.506749</td>\n",
       "      <td>0.975847</td>\n",
       "      <td>0.906647</td>\n",
       "      <td>0.937432</td>\n",
       "      <td>0.572198</td>\n",
       "      <td>-0.187638</td>\n",
       "    </tr>\n",
       "    <tr>\n",
       "      <td>107_7</td>\n",
       "      <td>107_7</td>\n",
       "      <td>0.875052</td>\n",
       "      <td>0.992874</td>\n",
       "      <td>0.888589</td>\n",
       "      <td>0.996106</td>\n",
       "      <td>0.823813</td>\n",
       "      <td>0.542397</td>\n",
       "    </tr>\n",
       "    <tr>\n",
       "      <td>108_3</td>\n",
       "      <td>108_3</td>\n",
       "      <td>0.610753</td>\n",
       "      <td>0.950284</td>\n",
       "      <td>0.895083</td>\n",
       "      <td>0.992284</td>\n",
       "      <td>0.529840</td>\n",
       "      <td>0.079944</td>\n",
       "    </tr>\n",
       "    <tr>\n",
       "      <td>116_15</td>\n",
       "      <td>116_15</td>\n",
       "      <td>0.797808</td>\n",
       "      <td>0.998813</td>\n",
       "      <td>0.890861</td>\n",
       "      <td>0.999472</td>\n",
       "      <td>0.248908</td>\n",
       "      <td>0.492671</td>\n",
       "    </tr>\n",
       "    <tr>\n",
       "      <td>128_5</td>\n",
       "      <td>128_5</td>\n",
       "      <td>0.636332</td>\n",
       "      <td>0.998066</td>\n",
       "      <td>0.881871</td>\n",
       "      <td>0.989983</td>\n",
       "      <td>0.513089</td>\n",
       "      <td>1.468359</td>\n",
       "    </tr>\n",
       "  </tbody>\n",
       "</table>\n",
       "</div>"
      ],
      "text/plain": [
       "         SCENE        SR       SNR      CONF       VBR     SCORE      mean\n",
       "doc                                                                       \n",
       "100_1    100_1  0.506749  0.975847  0.906647  0.937432  0.572198 -0.187638\n",
       "107_7    107_7  0.875052  0.992874  0.888589  0.996106  0.823813  0.542397\n",
       "108_3    108_3  0.610753  0.950284  0.895083  0.992284  0.529840  0.079944\n",
       "116_15  116_15  0.797808  0.998813  0.890861  0.999472  0.248908  0.492671\n",
       "128_5    128_5  0.636332  0.998066  0.881871  0.989983  0.513089  1.468359"
      ]
     },
     "execution_count": 4,
     "metadata": {},
     "output_type": "execute_result"
    }
   ],
   "source": [
    "DF.head()"
   ]
  },
  {
   "cell_type": "markdown",
   "metadata": {},
   "source": [
    "## Régression linéaire, leave on out"
   ]
  },
  {
   "cell_type": "code",
   "execution_count": 4,
   "metadata": {},
   "outputs": [
    {
     "data": {
      "text/plain": [
       "0.9397963331661854"
      ]
     },
     "execution_count": 4,
     "metadata": {},
     "output_type": "execute_result"
    }
   ],
   "source": [
    "from sklearn.model_selection import LeaveOneOut\n",
    "from sklearn.linear_model import LinearRegression\n",
    "from sklearn import preprocessing\n",
    "\n",
    "scaler = preprocessing.StandardScaler(with_mean=True, with_std=True, copy=True)\n",
    "scaler.fit(DF[selected_features])\n",
    "DF_scaled = pd.DataFrame(scaler.transform(DF[selected_features]), \n",
    "                         index = DF.index, columns = selected_features)\n",
    "DF_scaled[selected_y] = DF[selected_y]\n",
    "\n",
    "X = DF_scaled[selected_features].values\n",
    "y = DF_scaled[selected_y].values\n",
    "preds_test = np.zeros(len(X))\n",
    "\n",
    "loo = LeaveOneOut()\n",
    "loo.get_n_splits(X)\n",
    "\n",
    "for i,(train_index, test_index) in enumerate(loo.split(X)):\n",
    "    \n",
    "    X_train, X_test = X[train_index], X[test_index]\n",
    "    y_train, y_test = y[train_index], y[test_index]\n",
    "    \n",
    "    reg = LinearRegression().fit(X_train, y_train)\n",
    "    preds_test[i] = reg.predict(X_test)\n",
    "\n",
    "erreurs = y - preds_test\n",
    "rmse_test = np.sqrt(np.mean(erreurs**2))\n",
    "rmse_test"
   ]
  },
  {
   "cell_type": "code",
   "execution_count": null,
   "metadata": {},
   "outputs": [],
   "source": []
  }
 ],
 "metadata": {
  "kernelspec": {
   "display_name": "Python 3",
   "language": "python",
   "name": "python3"
  },
  "language_info": {
   "codemirror_mode": {
    "name": "ipython",
    "version": 3
   },
   "file_extension": ".py",
   "mimetype": "text/x-python",
   "name": "python",
   "nbconvert_exporter": "python",
   "pygments_lexer": "ipython3",
   "version": "3.6.8"
  }
 },
 "nbformat": 4,
 "nbformat_minor": 2
}
