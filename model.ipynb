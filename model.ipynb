{
 "cells": [
  {
   "cell_type": "code",
   "execution_count": 1,
   "metadata": {},
   "outputs": [],
   "source": [
    "import pandas as pd\n",
    "import numpy as np"
   ]
  },
  {
   "cell_type": "code",
   "execution_count": 2,
   "metadata": {},
   "outputs": [],
   "source": [
    "def get_graded_features(audio_features, df_media):\n",
    "    TEMP = df_media[['doc','moyenne']].groupby(['doc']).agg(['count','mean']).droplevel(0,axis=1)\n",
    "    RES = pd.merge(audio_features[selected_columns], TEMP, left_on='SCENE', right_on='doc').sort_values(by=['SCENE'])\n",
    "    RES = RES.reset_index(drop=True)\n",
    "    \n",
    "    # remplacement des NaN par les moyennes\n",
    "    for c in selected_features:\n",
    "        RES.loc[np.isnan(RES.loc[:,c]),c] = np.nanmean(RES.loc[:,c])\n",
    "    \n",
    "    return RES"
   ]
  },
  {
   "cell_type": "markdown",
   "metadata": {},
   "source": [
    "#### chargement des données et des features"
   ]
  },
  {
   "cell_type": "code",
   "execution_count": 3,
   "metadata": {},
   "outputs": [
    {
     "name": "stdout",
     "output_type": "stream",
     "text": [
      "audio : 55\n",
      "audio_only : 33\n",
      "video : 44\n",
      "texte : 55\n",
      "texte_only : 33\n"
     ]
    },
    {
     "data": {
      "text/html": [
       "<div>\n",
       "<style scoped>\n",
       "    .dataframe tbody tr th:only-of-type {\n",
       "        vertical-align: middle;\n",
       "    }\n",
       "\n",
       "    .dataframe tbody tr th {\n",
       "        vertical-align: top;\n",
       "    }\n",
       "\n",
       "    .dataframe thead th {\n",
       "        text-align: right;\n",
       "    }\n",
       "</style>\n",
       "<table border=\"1\" class=\"dataframe\">\n",
       "  <thead>\n",
       "    <tr style=\"text-align: right;\">\n",
       "      <th></th>\n",
       "      <th>SCENE</th>\n",
       "      <th>SR</th>\n",
       "      <th>SNR</th>\n",
       "      <th>CONF</th>\n",
       "      <th>RECON</th>\n",
       "      <th>SCORE</th>\n",
       "      <th>XML</th>\n",
       "    </tr>\n",
       "  </thead>\n",
       "  <tbody>\n",
       "    <tr>\n",
       "      <th>0</th>\n",
       "      <td>100_1</td>\n",
       "      <td>0.634000</td>\n",
       "      <td>0.952384</td>\n",
       "      <td>0.889849</td>\n",
       "      <td>Bonsoir intérêt pour coiffeur c'est pas sérieu...</td>\n",
       "      <td>0.573276</td>\n",
       "      <td>Bonsoir Tu veux pas te garer Pour quoi faire M...</td>\n",
       "    </tr>\n",
       "    <tr>\n",
       "      <th>1</th>\n",
       "      <td>107_7</td>\n",
       "      <td>0.944506</td>\n",
       "      <td>0.998807</td>\n",
       "      <td>0.882336</td>\n",
       "      <td>pourquoi trouver la je vous en prie je vous in...</td>\n",
       "      <td>0.943565</td>\n",
       "      <td>Qu est ce qui se passe Vous en faites un bouca...</td>\n",
       "    </tr>\n",
       "  </tbody>\n",
       "</table>\n",
       "</div>"
      ],
      "text/plain": [
       "   SCENE        SR       SNR      CONF  \\\n",
       "0  100_1  0.634000  0.952384  0.889849   \n",
       "1  107_7  0.944506  0.998807  0.882336   \n",
       "\n",
       "                                               RECON     SCORE  \\\n",
       "0  Bonsoir intérêt pour coiffeur c'est pas sérieu...  0.573276   \n",
       "1  pourquoi trouver la je vous en prie je vous in...  0.943565   \n",
       "\n",
       "                                                 XML  \n",
       "0  Bonsoir Tu veux pas te garer Pour quoi faire M...  \n",
       "1  Qu est ce qui se passe Vous en faites un bouca...  "
      ]
     },
     "execution_count": 3,
     "metadata": {},
     "output_type": "execute_result"
    }
   ],
   "source": [
    "%run loading_data.ipynb\n",
    "\n",
    "graded = annot[(annot['isGraded'] == 1)].copy()\n",
    "graded['moyenne'] = graded[noteurs].apply(np.nanmean, axis=1)\n",
    "\n",
    "selected_features = ['SR','SNR','CONF','SCORE']\n",
    "selected_columns = ['SCENE'] + selected_features\n",
    "selected_y = 'mean'\n",
    "\n",
    "audio_features = pd.read_csv('./data/audio_features.csv', sep='§', engine='python', index_col=0, encoding='utf-8')\n",
    "audio_features.head(2)"
   ]
  },
  {
   "cell_type": "code",
   "execution_count": null,
   "metadata": {},
   "outputs": [],
   "source": []
  },
  {
   "cell_type": "markdown",
   "metadata": {},
   "source": [
    "## Régression linéaire, leave on out"
   ]
  },
  {
   "cell_type": "code",
   "execution_count": 4,
   "metadata": {},
   "outputs": [
    {
     "data": {
      "text/plain": [
       "17.974434071502134"
      ]
     },
     "execution_count": 4,
     "metadata": {},
     "output_type": "execute_result"
    }
   ],
   "source": [
    "from sklearn.model_selection import LeaveOneOut\n",
    "from sklearn.linear_model import LinearRegression\n",
    "\n",
    "DF = get_graded_features(audio_features, audio_only)\n",
    "\n",
    "X = DF[selected_features].values\n",
    "y = DF[selected_y].values\n",
    "preds_test = np.zeros(len(X))\n",
    "\n",
    "loo = LeaveOneOut()\n",
    "loo.get_n_splits(X)\n",
    "\n",
    "for i,(train_index, test_index) in enumerate(loo.split(X)):\n",
    "    \n",
    "    X_train, X_test = X[train_index], X[test_index]\n",
    "    y_train, y_test = y[train_index], y[test_index]\n",
    "    \n",
    "    reg = LinearRegression().fit(X_train, y_train)\n",
    "    preds_test[i] = reg.predict(X_test)\n",
    "\n",
    "erreurs = y - preds_test\n",
    "rmse_test = np.sqrt(np.mean(erreurs**2))\n",
    "rmse_test"
   ]
  },
  {
   "cell_type": "code",
   "execution_count": null,
   "metadata": {},
   "outputs": [],
   "source": []
  },
  {
   "cell_type": "code",
   "execution_count": null,
   "metadata": {},
   "outputs": [],
   "source": []
  },
  {
   "cell_type": "code",
   "execution_count": null,
   "metadata": {},
   "outputs": [],
   "source": []
  },
  {
   "cell_type": "code",
   "execution_count": null,
   "metadata": {},
   "outputs": [],
   "source": []
  }
 ],
 "metadata": {
  "kernelspec": {
   "display_name": "Python 3",
   "language": "python",
   "name": "python3"
  },
  "language_info": {
   "codemirror_mode": {
    "name": "ipython",
    "version": 3
   },
   "file_extension": ".py",
   "mimetype": "text/x-python",
   "name": "python",
   "nbconvert_exporter": "python",
   "pygments_lexer": "ipython3",
   "version": "3.6.8"
  }
 },
 "nbformat": 4,
 "nbformat_minor": 2
}
