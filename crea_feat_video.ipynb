{
 "cells": [
  {
   "cell_type": "markdown",
   "metadata": {},
   "source": [
    "!pip install opencv-contrib-python\n"
   ]
  },
  {
   "cell_type": "code",
   "execution_count": 39,
   "metadata": {
    "collapsed": true
   },
   "outputs": [],
   "source": [
    "import cv2\n",
    "import numpy as np\n",
    "\n"
   ]
  },
  {
   "cell_type": "code",
   "execution_count": 40,
   "metadata": {
    "collapsed": true
   },
   "outputs": [],
   "source": [
    "path_input = 'Images/Input/'\n",
    "path_output = 'Images/Output/'"
   ]
  },
  {
   "cell_type": "code",
   "execution_count": 41,
   "metadata": {
    "collapsed": true
   },
   "outputs": [],
   "source": [
    "# Détection de personnes"
   ]
  },
  {
   "cell_type": "code",
   "execution_count": 42,
   "metadata": {
    "collapsed": true
   },
   "outputs": [],
   "source": [
    "# Load Yolo\n",
    "net = cv2.dnn.readNet(\"OpenCV/yolov3.weights\", \"OpenCV/yolov3.cfg\")\n",
    "classes = []\n",
    "with open(\"OpenCV/coco.names\", \"r\") as f:\n",
    "    classes = [line.strip() for line in f.readlines()]\n",
    "layer_names = net.getLayerNames()\n",
    "output_layers = [layer_names[i[0] - 1] for i in net.getUnconnectedOutLayers()]\n",
    "colors = np.random.uniform(0, 255, size=(len(classes), 3))"
   ]
  },
  {
   "cell_type": "code",
   "execution_count": 48,
   "metadata": {
    "collapsed": true
   },
   "outputs": [],
   "source": [
    "def detect_objects(image, image_out, net, output_layers, colors):\n",
    "\n",
    "    # Loading image\n",
    "    img = cv2.imread(image)\n",
    "    img = cv2.resize(img, None, fx=0.4, fy=0.4)\n",
    "    height, width, channels = img.shape\n",
    "\n",
    "    # Detecting objects\n",
    "    blob = cv2.dnn.blobFromImage(img, 0.00392, (416, 416), (0, 0, 0), True, crop=False)\n",
    "    net.setInput(blob)\n",
    "    outs = net.forward(output_layers)\n",
    "\n",
    "    # Showing informations on the screen\n",
    "    class_ids = []\n",
    "    confidences = []\n",
    "    boxes = []\n",
    "    for out in outs:\n",
    "        for detection in out:\n",
    "            scores = detection[5:]\n",
    "            class_id = np.argmax(scores)\n",
    "            confidence = scores[class_id]\n",
    "            if confidence > 0.5:\n",
    "                # Object detected\n",
    "                center_x = int(detection[0] * width)\n",
    "                center_y = int(detection[1] * height)\n",
    "                w = int(detection[2] * width)\n",
    "                h = int(detection[3] * height)\n",
    "                # Rectangle coordinates\n",
    "                x = int(center_x - w / 2)\n",
    "                y = int(center_y - h / 2)\n",
    "                boxes.append([x, y, w, h])\n",
    "                confidences.append(float(confidence))\n",
    "                class_ids.append(class_id)\n",
    "\n",
    "    indexes = cv2.dnn.NMSBoxes(boxes, confidences, 0.5, 0.4)     \n",
    "    font = cv2.FONT_HERSHEY_PLAIN\n",
    "    for i in range(len(boxes)):\n",
    "        if i in indexes:\n",
    "            x, y, w, h = boxes[i]\n",
    "            label = str(classes[class_ids[i]])\n",
    "            color = colors[i]\n",
    "            cv2.rectangle(img, (x, y), (x + w, y + h), color, 2)\n",
    "            cv2.putText(img, label + ':' + str(round(confidences[i],2)), (x, y + 30), font, 0.1, color, 3)\n",
    "    cv2.imwrite(image_out, img)\n",
    "\n"
   ]
  },
  {
   "cell_type": "code",
   "execution_count": 49,
   "metadata": {},
   "outputs": [
    {
     "name": "stdout",
     "output_type": "stream",
     "text": [
      "images.jpg\n",
      "Lenna.jpg\n",
      "test.jpg\n",
      "test2.jpg\n",
      "test3.jpg\n"
     ]
    }
   ],
   "source": [
    "for file in os.listdir(path_input):    \n",
    "    if os.path.splitext(file)[-1].lower() in [\".jpg\", \".jpeg\", \".png\" ] :    \n",
    "        print(file)\n",
    "        detect_objects(path_input + file, path_output + 'YOLO_' + file, net, output_layers, colors)\n",
    "\n"
   ]
  },
  {
   "cell_type": "markdown",
   "metadata": {},
   "source": [
    "voir soft_NMS"
   ]
  },
  {
   "cell_type": "markdown",
   "metadata": {},
   "source": [
    "# Pour fermer en utilisant la croix\n",
    "# A TESTER\n",
    "img = cv2.imread('arvid.jpg', 0)\n",
    "cv2.namedWindow('image', cv2.WINDOW_NORMAL)\n",
    "cv2.imshow('image', img)\n",
    "\n",
    "while True:\n",
    "    k = cv2.waitKey(30) & 0xFF\n",
    "    if k == 27:         # wait for ESC key to exit\n",
    "        cv2.destroyAllWindows()\n",
    "    elif k == ord('s'):  # wait for 's' key to save and exit\n",
    "        cv2.imwrite('arvid2.jpg', img)\n",
    "        cv2.destroyAllWindows()\n",
    "    if cv2.getWindowProperty(\"image\", 0) == -1:\n",
    "        break"
   ]
  },
  {
   "cell_type": "code",
   "execution_count": 12,
   "metadata": {},
   "outputs": [
    {
     "data": {
      "text/plain": [
       "[0.9857463836669922,\n",
       " 0.5469236969947815,\n",
       " 0.9937001466751099,\n",
       " 0.9991943836212158,\n",
       " 0.9925427436828613,\n",
       " 0.7163336873054504]"
      ]
     },
     "execution_count": 12,
     "metadata": {},
     "output_type": "execute_result"
    }
   ],
   "source": [
    "confidences"
   ]
  },
  {
   "cell_type": "code",
   "execution_count": null,
   "metadata": {
    "collapsed": true
   },
   "outputs": [],
   "source": []
  },
  {
   "cell_type": "markdown",
   "metadata": {},
   "source": [
    "# Détection de visages"
   ]
  },
  {
   "cell_type": "code",
   "execution_count": 26,
   "metadata": {},
   "outputs": [
    {
     "name": "stdout",
     "output_type": "stream",
     "text": [
      "<class 'numpy.ndarray'>\n",
      "nombre de visages 1 dimension de l'image (878, 1170, 3) image Images/Input/test.jpg\n"
     ]
    }
   ],
   "source": [
    "# coding:latin-1\n",
    "import sys, os\n",
    "import cv2\n",
    "\n",
    "  \n",
    "def detect_faces(image, image_out, path_haar, show = False):\n",
    "    # on charge l'image en mémoire\n",
    "    img = cv2.imread(image)\n",
    "    print(type(img))\n",
    "    #cv2.imshow('Image',img)\n",
    "    # on charge le modèle de détection des visages\n",
    "    face_model = cv2.CascadeClassifier(\"OpenCV/\" + path_haar)\n",
    "     \n",
    "     \n",
    "    # détection du ou des visages\n",
    "    faces = face_model.detectMultiScale(img)\n",
    "     \n",
    "    # on place un cadre autour des visages\n",
    "    print (\"nombre de visages\", len(faces), \"dimension de l'image\", img.shape, \"image\", image)\n",
    "    for face in faces:\n",
    "        cv2.rectangle(img, (face[0], face[1]), (face[0] + face[2], face[0] + face[3]), (255, 0, 0), 3)\n",
    "         \n",
    "    # on sauvegarde le résultat final\n",
    "    cv2.imwrite(image_out, img)\n",
    "     \n",
    "    # pour voir l'image, presser ESC pour sortir\n",
    "    if show :\n",
    "        cv2.imshow(\"visage\",img)\n",
    "        if cv2.waitKey(5000) == 27: cv2.destroyWindow(\"visage\")\n",
    "                                       \n",
    "path_haar_frontal = 'haarcascade_frontalface_alt2.xml'\n",
    "path_haar_profile = 'haarcascade_profileface.xml'\n",
    "\n",
    "\n",
    "detect_faces('Images/Input/test.jpg', 'res_visage_' + 'front_' + file, path_haar_frontal, True)\n"
   ]
  },
  {
   "cell_type": "code",
   "execution_count": 31,
   "metadata": {},
   "outputs": [
    {
     "name": "stdout",
     "output_type": "stream",
     "text": [
      "images.jpg\n",
      "<class 'numpy.ndarray'>\n",
      "nombre de visages 0 dimension de l'image (147, 342, 3) image Images/Input/images.jpg\n",
      "Lenna.jpg\n",
      "<class 'numpy.ndarray'>\n",
      "nombre de visages 1 dimension de l'image (512, 512, 3) image Images/Input/Lenna.jpg\n",
      "test.jpg\n",
      "<class 'numpy.ndarray'>\n",
      "nombre de visages 1 dimension de l'image (878, 1170, 3) image Images/Input/test.jpg\n",
      "test2.jpg\n",
      "<class 'numpy.ndarray'>\n",
      "nombre de visages 2 dimension de l'image (878, 1170, 3) image Images/Input/test2.jpg\n",
      "test3.jpg\n",
      "<class 'numpy.ndarray'>\n",
      "nombre de visages 0 dimension de l'image (878, 1170, 3) image Images/Input/test3.jpg\n"
     ]
    }
   ],
   "source": [
    "\n",
    "for file in os.listdir(path_input):    \n",
    "    if os.path.splitext(file)[-1].lower() in [\".jpg\", \".jpeg\", \".png\" ] :    \n",
    "        print(file)\n",
    "        detect_faces(path_input + file, path_output + 'res_visage_' + 'front_' + file, path_haar_frontal, True)"
   ]
  },
  {
   "cell_type": "code",
   "execution_count": 32,
   "metadata": {},
   "outputs": [
    {
     "name": "stdout",
     "output_type": "stream",
     "text": [
      "images.jpg\n",
      "<class 'numpy.ndarray'>\n",
      "nombre de visages 1 dimension de l'image (147, 342, 3) image Images/Input/images.jpg\n",
      "Lenna.jpg\n",
      "<class 'numpy.ndarray'>\n",
      "nombre de visages 0 dimension de l'image (512, 512, 3) image Images/Input/Lenna.jpg\n",
      "test.jpg\n",
      "<class 'numpy.ndarray'>\n",
      "nombre de visages 1 dimension de l'image (878, 1170, 3) image Images/Input/test.jpg\n",
      "test2.jpg\n",
      "<class 'numpy.ndarray'>\n",
      "nombre de visages 1 dimension de l'image (878, 1170, 3) image Images/Input/test2.jpg\n",
      "test3.jpg\n",
      "<class 'numpy.ndarray'>\n",
      "nombre de visages 0 dimension de l'image (878, 1170, 3) image Images/Input/test3.jpg\n"
     ]
    }
   ],
   "source": [
    "for file in os.listdir(path_input):    \n",
    "    if os.path.splitext(file)[-1].lower() in [\".jpg\", \".jpeg\", \".png\" ] :    \n",
    "        print(file)\n",
    "        detect_faces(path_input + file, path_output + 'res_visage_' + 'profile_' + file, path_haar_profile, True)"
   ]
  },
  {
   "cell_type": "markdown",
   "metadata": {},
   "source": [
    "# Création de features"
   ]
  },
  {
   "cell_type": "code",
   "execution_count": null,
   "metadata": {
    "collapsed": true
   },
   "outputs": [],
   "source": []
  },
  {
   "cell_type": "code",
   "execution_count": null,
   "metadata": {
    "collapsed": true
   },
   "outputs": [],
   "source": []
  }
 ],
 "metadata": {
  "kernelspec": {
   "display_name": "Python 3",
   "language": "python",
   "name": "python3"
  },
  "language_info": {
   "codemirror_mode": {
    "name": "ipython",
    "version": 3
   },
   "file_extension": ".py",
   "mimetype": "text/x-python",
   "name": "python",
   "nbconvert_exporter": "python",
   "pygments_lexer": "ipython3",
   "version": "3.6.1"
  }
 },
 "nbformat": 4,
 "nbformat_minor": 2
}
